{
 "cells": [
  {
   "cell_type": "code",
   "execution_count": 1,
   "metadata": {},
   "outputs": [],
   "source": [
    "import json\n",
    "import requests\n",
    "import json\n",
    "import re\n",
    "import time\n",
    "import pandas as pd\n",
    "import os"
   ]
  },
  {
   "cell_type": "code",
   "execution_count": 2,
   "metadata": {},
   "outputs": [],
   "source": [
    "# Set the request parameters\n",
    "#url = 'https://wisau.zendesk.com/api/v2/users.json'\n",
    "headers= {\"Authorization\" : \"Bearer 2a7231020a314f02614a01d5f9ee3b2d4b803704c89baf75288ba85865574fe5\"}\n",
    "# Do the HTTP get request\n",
    "#response = requests.get(url, headers=headers)"
   ]
  },
  {
   "cell_type": "code",
   "execution_count": 3,
   "metadata": {},
   "outputs": [],
   "source": [
    "#Create a list and initialize session request\n",
    "data_set = []\n",
    "data_set1=[]\n",
    "session = requests.Session()"
   ]
  },
  {
   "cell_type": "code",
   "execution_count": 4,
   "metadata": {},
   "outputs": [],
   "source": [
    "# Set the request parameters\n",
    "url = 'https://wisau.zendesk.com/api/v2/users.json'\n",
    "url1 ='https://wisau.zendesk.com/api/v2/tickets.json'\n",
    "#response = requests.get(url, headers=headers)\n",
    "#data = response.json()"
   ]
  },
  {
   "cell_type": "code",
   "execution_count": 5,
   "metadata": {},
   "outputs": [],
   "source": [
    "#To capture all the records, create a while loop, stash the page data incrementally in a variable, and get the 'next_page' url (in bold):\n",
    "while url:\n",
    "    response = session.get(url, headers=headers)\n",
    "    data = response.json()\n",
    "    data_set.extend(data['users'])\n",
    "    url = data['next_page']\n"
   ]
  },
  {
   "cell_type": "code",
   "execution_count": 7,
   "metadata": {},
   "outputs": [],
   "source": [
    "#To capture all the records, create a while loop, stash the page data incrementally in a variable, and get the 'next_page' url (in bold):\n",
    "while url1:\n",
    "    response1 = session.get(url1, headers=headers)\n",
    "    data1 = response1.json()\n",
    "    data_set1.extend(data1['tickets'])\n",
    "    url1 = data1['next_page']"
   ]
  },
  {
   "cell_type": "code",
   "execution_count": 8,
   "metadata": {},
   "outputs": [],
   "source": [
    "#When you reach the rate limit, the API responds with a HTTP 429 Too Many Requests response code. \n",
    "#The response has a Retry-After header that tells you how many seconds to wait before retrying.\n",
    "if response.status_code == 429:\n",
    "        print('Rate limited! Please wait.')\n",
    "        time.sleep(int(response.headers['retry-after']))\n",
    "        exit()\n",
    " # Check for HTTP codes other than 200\n",
    "if response.status_code != 200:\n",
    "    print('Status:', response.status_code, 'Problem with the request. Exiting.')\n",
    "    exit()"
   ]
  },
  {
   "cell_type": "code",
   "execution_count": 9,
   "metadata": {},
   "outputs": [],
   "source": [
    "#Export the list in text file(Json  format)\n",
    "with open('data_set.txt', 'w') as outfile:\n",
    "    json.dump(data_set, outfile)"
   ]
  },
  {
   "cell_type": "code",
   "execution_count": 9,
   "metadata": {},
   "outputs": [],
   "source": [
    "#Export the list in text file(List format) \n",
    "#with open('listfile.txt', 'w') as filehandle:\n",
    "    #for listitem in data_set:\n",
    "        #filehandle.write('%s\\n' % listitem)"
   ]
  },
  {
   "cell_type": "code",
   "execution_count": 10,
   "metadata": {},
   "outputs": [],
   "source": [
    "with open('data_set1.txt', 'w') as outfile:\n",
    "    json.dump(data_set1, outfile)"
   ]
  },
  {
   "cell_type": "code",
   "execution_count": null,
   "metadata": {},
   "outputs": [],
   "source": [
    "#print(data_set1)"
   ]
  },
  {
   "cell_type": "code",
   "execution_count": 18,
   "metadata": {},
   "outputs": [],
   "source": [
    "#Serializing a data structure means translating it into a format that can be stored and then reconstructed later in the same environment. \n",
    "#In Python, you can use the built-in pickle module to serialize and deserialize a data structure.\n",
    "#import pickle\n",
    "#with open('my_serialized_data_file.p', mode='wb') as f:\n",
    "    #pickle.dump(data_set, f)"
   ]
  },
  {
   "cell_type": "code",
   "execution_count": 11,
   "metadata": {},
   "outputs": [],
   "source": [
    "users_data = pd.DataFrame(data_set, columns=['id','name','created_at','updated_at','email','role','organization_id'])"
   ]
  },
  {
   "cell_type": "code",
   "execution_count": 12,
   "metadata": {},
   "outputs": [],
   "source": [
    "users_data1 = pd.DataFrame(data_set1, columns=['id','type','subject','description','priority','status','requester_id','submitter_id','assignee_id','organization_id','group_id','tags','custom_fields','fields','ticket_form_id','brand_id','allow_attachments'])"
   ]
  },
  {
   "cell_type": "code",
   "execution_count": 13,
   "metadata": {},
   "outputs": [
    {
     "data": {
      "text/html": [
       "<div>\n",
       "<style scoped>\n",
       "    .dataframe tbody tr th:only-of-type {\n",
       "        vertical-align: middle;\n",
       "    }\n",
       "\n",
       "    .dataframe tbody tr th {\n",
       "        vertical-align: top;\n",
       "    }\n",
       "\n",
       "    .dataframe thead th {\n",
       "        text-align: right;\n",
       "    }\n",
       "</style>\n",
       "<table border=\"1\" class=\"dataframe\">\n",
       "  <thead>\n",
       "    <tr style=\"text-align: right;\">\n",
       "      <th></th>\n",
       "      <th>id</th>\n",
       "      <th>type</th>\n",
       "      <th>subject</th>\n",
       "      <th>description</th>\n",
       "      <th>priority</th>\n",
       "      <th>status</th>\n",
       "      <th>requester_id</th>\n",
       "      <th>submitter_id</th>\n",
       "      <th>assignee_id</th>\n",
       "      <th>organization_id</th>\n",
       "      <th>group_id</th>\n",
       "      <th>tags</th>\n",
       "      <th>custom_fields</th>\n",
       "      <th>fields</th>\n",
       "      <th>ticket_form_id</th>\n",
       "      <th>brand_id</th>\n",
       "      <th>allow_attachments</th>\n",
       "    </tr>\n",
       "  </thead>\n",
       "  <tbody>\n",
       "    <tr>\n",
       "      <th>0</th>\n",
       "      <td>2</td>\n",
       "      <td>incident</td>\n",
       "      <td>Vendor Part No. XYZ</td>\n",
       "      <td>Ladder 12 ft Aluminium</td>\n",
       "      <td>normal</td>\n",
       "      <td>closed</td>\n",
       "      <td>116385577752</td>\n",
       "      <td>116385577752</td>\n",
       "      <td>3.604694e+11</td>\n",
       "      <td>1.149649e+11</td>\n",
       "      <td>1.140959e+11</td>\n",
       "      <td>[marketing_text_loaded_in_iice__9_, not_applic...</td>\n",
       "      <td>[{'id': 114102485152, 'value': None}, {'id': 1...</td>\n",
       "      <td>[{'id': 114102485152, 'value': None}, {'id': 1...</td>\n",
       "      <td>114094011571</td>\n",
       "      <td>114095110812</td>\n",
       "      <td>True</td>\n",
       "    </tr>\n",
       "    <tr>\n",
       "      <th>1</th>\n",
       "      <td>7</td>\n",
       "      <td>task</td>\n",
       "      <td>Test 1 Subject</td>\n",
       "      <td>aSDADD</td>\n",
       "      <td>normal</td>\n",
       "      <td>closed</td>\n",
       "      <td>116410595652</td>\n",
       "      <td>116385577752</td>\n",
       "      <td>3.604694e+11</td>\n",
       "      <td>1.149649e+11</td>\n",
       "      <td>1.140959e+11</td>\n",
       "      <td>[not_applicable, part_creation_completed, safe...</td>\n",
       "      <td>[{'id': 114102485152, 'value': 'ABC123 VPN'}, ...</td>\n",
       "      <td>[{'id': 114102485152, 'value': 'ABC123 VPN'}, ...</td>\n",
       "      <td>114094011571</td>\n",
       "      <td>114095110812</td>\n",
       "      <td>True</td>\n",
       "    </tr>\n",
       "    <tr>\n",
       "      <th>2</th>\n",
       "      <td>14</td>\n",
       "      <td>task</td>\n",
       "      <td>Add Alternates for Various Parts</td>\n",
       "      <td>Add Alternates for Various Parts</td>\n",
       "      <td>normal</td>\n",
       "      <td>closed</td>\n",
       "      <td>116385577752</td>\n",
       "      <td>116385577752</td>\n",
       "      <td>3.831312e+11</td>\n",
       "      <td>1.149649e+11</td>\n",
       "      <td>1.140958e+11</td>\n",
       "      <td>[alternate_part_1, change, not_applicable, par...</td>\n",
       "      <td>[{'id': 114102485152, 'value': 'Various'}, {'i...</td>\n",
       "      <td>[{'id': 114102485152, 'value': 'Various'}, {'i...</td>\n",
       "      <td>114094011571</td>\n",
       "      <td>114095110812</td>\n",
       "      <td>True</td>\n",
       "    </tr>\n",
       "    <tr>\n",
       "      <th>3</th>\n",
       "      <td>85</td>\n",
       "      <td>incident</td>\n",
       "      <td>ABCfd</td>\n",
       "      <td>aghgs</td>\n",
       "      <td>high</td>\n",
       "      <td>pending</td>\n",
       "      <td>360470912891</td>\n",
       "      <td>360470912891</td>\n",
       "      <td>NaN</td>\n",
       "      <td>NaN</td>\n",
       "      <td>1.140958e+11</td>\n",
       "      <td>[i___t_power___tools, marketing_text_loaded_in...</td>\n",
       "      <td>[{'id': 114102485152, 'value': None}, {'id': 1...</td>\n",
       "      <td>[{'id': 114102485152, 'value': None}, {'id': 1...</td>\n",
       "      <td>114094011571</td>\n",
       "      <td>114095110812</td>\n",
       "      <td>True</td>\n",
       "    </tr>\n",
       "    <tr>\n",
       "      <th>4</th>\n",
       "      <td>2031</td>\n",
       "      <td>None</td>\n",
       "      <td>None</td>\n",
       "      <td>Hi,\\n\\nCould you please set up as a new lines,...</td>\n",
       "      <td>urgent</td>\n",
       "      <td>closed</td>\n",
       "      <td>360769563552</td>\n",
       "      <td>360769563552</td>\n",
       "      <td>3.604694e+11</td>\n",
       "      <td>1.149649e+11</td>\n",
       "      <td>1.140959e+11</td>\n",
       "      <td>[not_applicable, part_creation_completed, safe...</td>\n",
       "      <td>[{'id': 114102485152, 'value': None}, {'id': 1...</td>\n",
       "      <td>[{'id': 114102485152, 'value': None}, {'id': 1...</td>\n",
       "      <td>114094011571</td>\n",
       "      <td>114095110812</td>\n",
       "      <td>True</td>\n",
       "    </tr>\n",
       "  </tbody>\n",
       "</table>\n",
       "</div>"
      ],
      "text/plain": [
       "     id      type                            subject  \\\n",
       "0     2  incident                Vendor Part No. XYZ   \n",
       "1     7      task                     Test 1 Subject   \n",
       "2    14      task  Add Alternates for Various Parts    \n",
       "3    85  incident                              ABCfd   \n",
       "4  2031      None                               None   \n",
       "\n",
       "                                         description priority   status  \\\n",
       "0                             Ladder 12 ft Aluminium   normal   closed   \n",
       "1                                             aSDADD   normal   closed   \n",
       "2                   Add Alternates for Various Parts   normal   closed   \n",
       "3                                              aghgs     high  pending   \n",
       "4  Hi,\\n\\nCould you please set up as a new lines,...   urgent   closed   \n",
       "\n",
       "   requester_id  submitter_id   assignee_id  organization_id      group_id  \\\n",
       "0  116385577752  116385577752  3.604694e+11     1.149649e+11  1.140959e+11   \n",
       "1  116410595652  116385577752  3.604694e+11     1.149649e+11  1.140959e+11   \n",
       "2  116385577752  116385577752  3.831312e+11     1.149649e+11  1.140958e+11   \n",
       "3  360470912891  360470912891           NaN              NaN  1.140958e+11   \n",
       "4  360769563552  360769563552  3.604694e+11     1.149649e+11  1.140959e+11   \n",
       "\n",
       "                                                tags  \\\n",
       "0  [marketing_text_loaded_in_iice__9_, not_applic...   \n",
       "1  [not_applicable, part_creation_completed, safe...   \n",
       "2  [alternate_part_1, change, not_applicable, par...   \n",
       "3  [i___t_power___tools, marketing_text_loaded_in...   \n",
       "4  [not_applicable, part_creation_completed, safe...   \n",
       "\n",
       "                                       custom_fields  \\\n",
       "0  [{'id': 114102485152, 'value': None}, {'id': 1...   \n",
       "1  [{'id': 114102485152, 'value': 'ABC123 VPN'}, ...   \n",
       "2  [{'id': 114102485152, 'value': 'Various'}, {'i...   \n",
       "3  [{'id': 114102485152, 'value': None}, {'id': 1...   \n",
       "4  [{'id': 114102485152, 'value': None}, {'id': 1...   \n",
       "\n",
       "                                              fields  ticket_form_id  \\\n",
       "0  [{'id': 114102485152, 'value': None}, {'id': 1...    114094011571   \n",
       "1  [{'id': 114102485152, 'value': 'ABC123 VPN'}, ...    114094011571   \n",
       "2  [{'id': 114102485152, 'value': 'Various'}, {'i...    114094011571   \n",
       "3  [{'id': 114102485152, 'value': None}, {'id': 1...    114094011571   \n",
       "4  [{'id': 114102485152, 'value': None}, {'id': 1...    114094011571   \n",
       "\n",
       "       brand_id  allow_attachments  \n",
       "0  114095110812               True  \n",
       "1  114095110812               True  \n",
       "2  114095110812               True  \n",
       "3  114095110812               True  \n",
       "4  114095110812               True  "
      ]
     },
     "execution_count": 13,
     "metadata": {},
     "output_type": "execute_result"
    }
   ],
   "source": [
    "users_data1.head(5)"
   ]
  },
  {
   "cell_type": "code",
   "execution_count": 14,
   "metadata": {},
   "outputs": [
    {
     "data": {
      "text/html": [
       "<div>\n",
       "<style scoped>\n",
       "    .dataframe tbody tr th:only-of-type {\n",
       "        vertical-align: middle;\n",
       "    }\n",
       "\n",
       "    .dataframe tbody tr th {\n",
       "        vertical-align: top;\n",
       "    }\n",
       "\n",
       "    .dataframe thead th {\n",
       "        text-align: right;\n",
       "    }\n",
       "</style>\n",
       "<table border=\"1\" class=\"dataframe\">\n",
       "  <thead>\n",
       "    <tr style=\"text-align: right;\">\n",
       "      <th></th>\n",
       "      <th>id</th>\n",
       "      <th>name</th>\n",
       "      <th>created_at</th>\n",
       "      <th>updated_at</th>\n",
       "      <th>email</th>\n",
       "      <th>role</th>\n",
       "      <th>organization_id</th>\n",
       "    </tr>\n",
       "  </thead>\n",
       "  <tbody>\n",
       "    <tr>\n",
       "      <th>0</th>\n",
       "      <td>116385577752</td>\n",
       "      <td>Anish</td>\n",
       "      <td>2017-12-05T05:48:58Z</td>\n",
       "      <td>2018-03-23T04:22:43Z</td>\n",
       "      <td>anish.mathur@wisau.com.au</td>\n",
       "      <td>end-user</td>\n",
       "      <td>1.149649e+11</td>\n",
       "    </tr>\n",
       "    <tr>\n",
       "      <th>1</th>\n",
       "      <td>116387412352</td>\n",
       "      <td>Sample customer</td>\n",
       "      <td>2017-12-05T05:49:03Z</td>\n",
       "      <td>2018-03-12T00:04:10Z</td>\n",
       "      <td>customer@example.com</td>\n",
       "      <td>end-user</td>\n",
       "      <td>NaN</td>\n",
       "    </tr>\n",
       "    <tr>\n",
       "      <th>2</th>\n",
       "      <td>116410595652</td>\n",
       "      <td>Anish Mathur 2</td>\n",
       "      <td>2017-12-07T05:57:29Z</td>\n",
       "      <td>2019-02-12T03:26:58Z</td>\n",
       "      <td>anishmathursydney@gmail.com</td>\n",
       "      <td>agent</td>\n",
       "      <td>1.149649e+11</td>\n",
       "    </tr>\n",
       "    <tr>\n",
       "      <th>3</th>\n",
       "      <td>116423619831</td>\n",
       "      <td>Christuraj Irudayasamy</td>\n",
       "      <td>2017-12-08T00:20:50Z</td>\n",
       "      <td>2019-09-26T23:39:45Z</td>\n",
       "      <td>christuraj.irudayasamy@blackwoods.com.au</td>\n",
       "      <td>admin</td>\n",
       "      <td>3.600519e+11</td>\n",
       "    </tr>\n",
       "    <tr>\n",
       "      <th>4</th>\n",
       "      <td>116497542151</td>\n",
       "      <td>Ninad Mokhariwale</td>\n",
       "      <td>2017-12-13T21:27:46Z</td>\n",
       "      <td>2019-10-20T22:06:13Z</td>\n",
       "      <td>ninad.mokhariwale@blackwoods.com.au</td>\n",
       "      <td>agent</td>\n",
       "      <td>3.606885e+11</td>\n",
       "    </tr>\n",
       "  </tbody>\n",
       "</table>\n",
       "</div>"
      ],
      "text/plain": [
       "             id                    name            created_at  \\\n",
       "0  116385577752                   Anish  2017-12-05T05:48:58Z   \n",
       "1  116387412352         Sample customer  2017-12-05T05:49:03Z   \n",
       "2  116410595652          Anish Mathur 2  2017-12-07T05:57:29Z   \n",
       "3  116423619831  Christuraj Irudayasamy  2017-12-08T00:20:50Z   \n",
       "4  116497542151       Ninad Mokhariwale  2017-12-13T21:27:46Z   \n",
       "\n",
       "             updated_at                                     email      role  \\\n",
       "0  2018-03-23T04:22:43Z                 anish.mathur@wisau.com.au  end-user   \n",
       "1  2018-03-12T00:04:10Z                      customer@example.com  end-user   \n",
       "2  2019-02-12T03:26:58Z               anishmathursydney@gmail.com     agent   \n",
       "3  2019-09-26T23:39:45Z  christuraj.irudayasamy@blackwoods.com.au     admin   \n",
       "4  2019-10-20T22:06:13Z       ninad.mokhariwale@blackwoods.com.au     agent   \n",
       "\n",
       "   organization_id  \n",
       "0     1.149649e+11  \n",
       "1              NaN  \n",
       "2     1.149649e+11  \n",
       "3     3.600519e+11  \n",
       "4     3.606885e+11  "
      ]
     },
     "execution_count": 14,
     "metadata": {},
     "output_type": "execute_result"
    }
   ],
   "source": [
    "users_data.head(5)"
   ]
  },
  {
   "cell_type": "code",
   "execution_count": null,
   "metadata": {},
   "outputs": [],
   "source": [
    "#merged_df = pd.merge(posts_df, users_df, how='left', left_on='author_id', right_on='id')\n",
    "#users_df = pd.DataFrame(topic['users'],columns=['id', 'name']).drop_duplicates(subset=['id'])\n",
    "#merged_df.to_excel('topic_posts.xlsx', index=False)\n",
    "#print('Spreadsheet saved.')"
   ]
  },
  {
   "cell_type": "code",
   "execution_count": 13,
   "metadata": {},
   "outputs": [
    {
     "data": {
      "text/plain": [
       "id             int64\n",
       "name          object\n",
       "created_at    object\n",
       "dtype: object"
      ]
     },
     "execution_count": 13,
     "metadata": {},
     "output_type": "execute_result"
    }
   ],
   "source": [
    "users_data1.dtypes"
   ]
  },
  {
   "cell_type": "code",
   "execution_count": 25,
   "metadata": {},
   "outputs": [
    {
     "data": {
      "text/plain": [
       "dict"
      ]
     },
     "execution_count": 25,
     "metadata": {},
     "output_type": "execute_result"
    }
   ],
   "source": [
    "type(data1)"
   ]
  },
  {
   "cell_type": "code",
   "execution_count": 15,
   "metadata": {},
   "outputs": [],
   "source": [
    "# We import the pyodbc module which gives us the ability and functionality to transfer data straight into Microsoft SQL Server\n",
    "import pyodbc"
   ]
  },
  {
   "cell_type": "code",
   "execution_count": 16,
   "metadata": {},
   "outputs": [],
   "source": [
    "\n",
    "cnxn = pyodbc.connect(DRIVER='{SQL Server Native Client 11.0}',SERVER='LT-5CG7345MDZ\\SQLExpress',DATABASE='Zendesk',trusted_connection='yes')"
   ]
  },
  {
   "cell_type": "code",
   "execution_count": 73,
   "metadata": {},
   "outputs": [],
   "source": [
    "# After a connection is established, we write out the data storage commands to send to Microsoft SQL Server\n",
    "#def save_api_log(name, created_at):\n",
    "#    try:\n",
    "#        #response_partial_approval = response_partial_approval.replace(\"'\",\"''\")\n",
    "#       #cnxn = pyodbc.connect(connection_string)        \n",
    "#        cursor = cnxn.cursor()\n",
    "#        sqlinsert =f\"INSERT INTO [dbo].[ORGS]([name],[created_at]) VALUES('{name}','{created_at}')\"\n",
    "# print(sqlinsert)\n",
    "#        cursor.execute(sqlinsert)\n",
    "#        cursor.commit()\n",
    "# \n",
    "#    except Exception as e:     \n",
    "#        print(\"Error {}\".format(e))  \n",
    "\n"
   ]
  },
  {
   "cell_type": "code",
   "execution_count": 74,
   "metadata": {},
   "outputs": [],
   "source": [
    "#To itrate through each row in the datatframe to store values in each row\n",
    "#for index, row in users_data1.head().iterrows():\n",
    " #   save_api_log(row['name'], row['created_at'])\n",
    "  #  #print(index, row[\"id\"])"
   ]
  },
  {
   "cell_type": "code",
   "execution_count": 33,
   "metadata": {},
   "outputs": [],
   "source": [
    "# After a connection is established, we create tables in Microsoft SQL Server\n",
    "cursor11 = cnxn.cursor()\n",
    "connection_string1 = \"CREATE TABLE Users1(id bigint,name varchar(max),created_at datetime, updated_at datetime, email nvarchar(max), role varchar(max), organization_id nvarchar(max))\"\n",
    "cursor11.execute(connection_string1)\n",
    "cursor11.commit()"
   ]
  },
  {
   "cell_type": "code",
   "execution_count": 36,
   "metadata": {},
   "outputs": [],
   "source": [
    "# After table connection, we write out the data storage commands to send to Microsoft SQL Server\n",
    "def save_api_log1(id,name,created_at,updated_at,email,role,organization_id):\n",
    "    try:\n",
    "        #response_partial_approval = response_partial_approval.replace(\"'\",\"''\")\n",
    "        #cnxn = pyodbc.connect(connection_string)        \n",
    "        cursor = cnxn.cursor()\n",
    "        sqlinsert =f\"INSERT INTO Zendesk.dbo.Users1 ([id ],[name] ,[created_at],[updated_at],[email],[role],[organization_id]) VALUES('{id}','{name}','{created_at}','{updated_at}','{email}','{role}','{organization_id}')\"\n",
    "# print(sqlinsert)\n",
    "        cursor.execute(sqlinsert)\n",
    "        cursor.commit()\n",
    " \n",
    "    except Exception as e:     \n",
    "        print(\"Error {}\".format(e))  "
   ]
  },
  {
   "cell_type": "code",
   "execution_count": 38,
   "metadata": {},
   "outputs": [
    {
     "name": "stdout",
     "output_type": "stream",
     "text": [
      "Error ('42000', \"[42000] [Microsoft][SQL Server Native Client 11.0][SQL Server]Incorrect syntax near 'Connor'. (102) (SQLExecDirectW); [42000] [Microsoft][SQL Server Native Client 11.0][SQL Server]The label 'T23' has already been declared. Label names must be unique within a query batch or stored procedure. (132)\")\n",
      "Error ('42000', \"[42000] [Microsoft][SQL Server Native Client 11.0][SQL Server]Incorrect syntax near 'Hearn'. (102) (SQLExecDirectW); [42000] [Microsoft][SQL Server Native Client 11.0][SQL Server]The label 'T00' has already been declared. Label names must be unique within a query batch or stored procedure. (132)\")\n",
      "Error ('42000', \"[42000] [Microsoft][SQL Server Native Client 11.0][SQL Server]Incorrect syntax near 'Neill'. (102) (SQLExecDirectW)\")\n",
      "Error ('42000', \"[42000] [Microsoft][SQL Server Native Client 11.0][SQL Server]Incorrect syntax near 'Halloran'. (102) (SQLExecDirectW); [42000] [Microsoft][SQL Server Native Client 11.0][SQL Server]Unclosed quotation mark after the character string ')'. (105)\")\n",
      "Error ('42000', \"[42000] [Microsoft][SQL Server Native Client 11.0][SQL Server]Incorrect syntax near 'Angelo'. (102) (SQLExecDirectW)\")\n",
      "Error ('42000', \"[42000] [Microsoft][SQL Server Native Client 11.0][SQL Server]Incorrect syntax near 'Brien'. (102) (SQLExecDirectW)\")\n"
     ]
    }
   ],
   "source": [
    "#To itrate through each row in the datatframe to store values in each row\n",
    "for index, row in users_data.iterrows():\n",
    "    save_api_log1(row['id'], row['name'], row['created_at'], row['updated_at'], row['email'], row['role'], row['organization_id'])\n",
    "    #print(index, row[\"id\"])"
   ]
  },
  {
   "cell_type": "code",
   "execution_count": null,
   "metadata": {},
   "outputs": [],
   "source": []
  }
 ],
 "metadata": {
  "kernelspec": {
   "display_name": "Python 3",
   "language": "python",
   "name": "python3"
  },
  "language_info": {
   "codemirror_mode": {
    "name": "ipython",
    "version": 3
   },
   "file_extension": ".py",
   "mimetype": "text/x-python",
   "name": "python",
   "nbconvert_exporter": "python",
   "pygments_lexer": "ipython3",
   "version": "3.7.3"
  }
 },
 "nbformat": 4,
 "nbformat_minor": 4
}
